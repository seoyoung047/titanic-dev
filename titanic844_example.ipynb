{
 "cells": [
  {
   "attachments": {},
   "cell_type": "markdown",
   "id": "b7311dea",
   "metadata": {
    "papermill": {
     "duration": 0.010163,
     "end_time": "2023-06-01T23:17:32.293385",
     "exception": false,
     "start_time": "2023-06-01T23:17:32.283222",
     "status": "completed"
    },
    "tags": []
   },
   "source": [
    "# Credits\n",
    "Based off:\n",
    "https://www.kaggle.com/code/mviola/titanic-wcg-knns-ensemble-0-82775-top-1/notebook\n",
    "\n",
    "Some features based from:\n",
    "https://www.kaggle.com/code/gunesevitan/titanic-advanced-feature-engineering-tutorial/notebook\n",
    "\n",
    "https://www.kaggle.com/code/konstantinmasich/titanic-0-82-0-83"
   ]
  },
  {
   "attachments": {},
   "cell_type": "markdown",
   "id": "c2bd29be",
   "metadata": {
    "papermill": {
     "duration": 0.009553,
     "end_time": "2023-06-01T23:17:32.312840",
     "exception": false,
     "start_time": "2023-06-01T23:17:32.303287",
     "status": "completed"
    },
    "tags": []
   },
   "source": [
    "I tried to achieve highest possible score, to do that I combined code from the highest scored notebooks (in Python) mentioned above and made some changes like soft-voting, more KNN and different parameters, more features.\n"
   ]
  },
  {
   "attachments": {},
   "cell_type": "markdown",
   "id": "f1e349e2",
   "metadata": {
    "papermill": {
     "duration": 0.009523,
     "end_time": "2023-06-01T23:17:32.332276",
     "exception": false,
     "start_time": "2023-06-01T23:17:32.322753",
     "status": "completed"
    },
    "tags": []
   },
   "source": [
    "# Imports"
   ]
  },
  {
   "cell_type": "code",
   "execution_count": 3,
   "id": "89fc0e9e",
   "metadata": {
    "execution": {
     "iopub.execute_input": "2023-06-01T23:17:32.354239Z",
     "iopub.status.busy": "2023-06-01T23:17:32.353593Z",
     "iopub.status.idle": "2023-06-01T23:17:34.063072Z",
     "shell.execute_reply": "2023-06-01T23:17:34.062045Z"
    },
    "papermill": {
     "duration": 1.723211,
     "end_time": "2023-06-01T23:17:34.065670",
     "exception": false,
     "start_time": "2023-06-01T23:17:32.342459",
     "status": "completed"
    },
    "tags": []
   },
   "outputs": [],
   "source": [
    "import numpy as np\n",
    "import pandas as pd\n",
    "\n",
    "from sklearn.impute import SimpleImputer\n",
    "from sklearn.preprocessing import StandardScaler, OneHotEncoder\n",
    "from sklearn.compose import ColumnTransformer\n",
    "from sklearn.pipeline import Pipeline\n",
    "from sklearn.neighbors import KNeighborsClassifier\n",
    "from sklearn.ensemble import VotingClassifier"
   ]
  },
  {
   "attachments": {},
   "cell_type": "markdown",
   "id": "f5b28bb2",
   "metadata": {
    "papermill": {
     "duration": 0.00951,
     "end_time": "2023-06-01T23:17:34.085180",
     "exception": false,
     "start_time": "2023-06-01T23:17:34.075670",
     "status": "completed"
    },
    "tags": []
   },
   "source": [
    "# Load data"
   ]
  },
  {
   "cell_type": "code",
   "execution_count": 4,
   "id": "94f4d401",
   "metadata": {
    "execution": {
     "iopub.execute_input": "2023-06-01T23:17:34.106830Z",
     "iopub.status.busy": "2023-06-01T23:17:34.106428Z",
     "iopub.status.idle": "2023-06-01T23:17:34.152412Z",
     "shell.execute_reply": "2023-06-01T23:17:34.151546Z"
    },
    "papermill": {
     "duration": 0.059863,
     "end_time": "2023-06-01T23:17:34.154848",
     "exception": false,
     "start_time": "2023-06-01T23:17:34.094985",
     "status": "completed"
    },
    "tags": []
   },
   "outputs": [],
   "source": [
    "train_data = pd.read_csv(\"../data/titanic/train.csv\")\n",
    "test_data = pd.read_csv(\"../data/titanic/test.csv\")\n",
    "data = pd.concat([train_data, test_data]).reset_index().drop([\"index\"], axis=1)"
   ]
  },
  {
   "attachments": {},
   "cell_type": "markdown",
   "id": "7f4b5f8a",
   "metadata": {
    "papermill": {
     "duration": 0.009553,
     "end_time": "2023-06-01T23:17:34.174239",
     "exception": false,
     "start_time": "2023-06-01T23:17:34.164686",
     "status": "completed"
    },
    "tags": []
   },
   "source": [
    "# Feature Engineering"
   ]
  },
  {
   "attachments": {},
   "cell_type": "markdown",
   "id": "662612fb",
   "metadata": {
    "papermill": {
     "duration": 0.009686,
     "end_time": "2023-06-01T23:17:34.193720",
     "exception": false,
     "start_time": "2023-06-01T23:17:34.184034",
     "status": "completed"
    },
    "tags": []
   },
   "source": [
    "Add married status"
   ]
  },
  {
   "cell_type": "code",
   "execution_count": 5,
   "id": "7eea025a",
   "metadata": {
    "execution": {
     "iopub.execute_input": "2023-06-01T23:17:34.215102Z",
     "iopub.status.busy": "2023-06-01T23:17:34.214692Z",
     "iopub.status.idle": "2023-06-01T23:17:34.229441Z",
     "shell.execute_reply": "2023-06-01T23:17:34.228627Z"
    },
    "papermill": {
     "duration": 0.027877,
     "end_time": "2023-06-01T23:17:34.231516",
     "exception": false,
     "start_time": "2023-06-01T23:17:34.203639",
     "status": "completed"
    },
    "tags": []
   },
   "outputs": [],
   "source": [
    "data[\"Title\"] = data[\"Name\"].str.split(\", \", expand=True)[1].str.split(\".\", expand=True)[0]\n",
    "\n",
    "data[\"Title\"] = data[\"Title\"].replace([\"Mlle\", \"Ms\"], \"Mrs\")\n",
    "data[\"Married_Status\"] = np.where(data[\"Title\"] == \"Mrs\", 1, 0)"
   ]
  },
  {
   "attachments": {},
   "cell_type": "markdown",
   "id": "50d2f711",
   "metadata": {
    "papermill": {
     "duration": 0.009495,
     "end_time": "2023-06-01T23:17:34.250858",
     "exception": false,
     "start_time": "2023-06-01T23:17:34.241363",
     "status": "completed"
    },
    "tags": []
   },
   "source": [
    "Fill missing age based on title"
   ]
  },
  {
   "cell_type": "code",
   "execution_count": 6,
   "id": "2cc1431e",
   "metadata": {
    "execution": {
     "iopub.execute_input": "2023-06-01T23:17:34.272517Z",
     "iopub.status.busy": "2023-06-01T23:17:34.271569Z",
     "iopub.status.idle": "2023-06-01T23:17:34.302999Z",
     "shell.execute_reply": "2023-06-01T23:17:34.301841Z"
    },
    "papermill": {
     "duration": 0.044965,
     "end_time": "2023-06-01T23:17:34.305623",
     "exception": false,
     "start_time": "2023-06-01T23:17:34.260658",
     "status": "completed"
    },
    "tags": []
   },
   "outputs": [],
   "source": [
    "data[\"Title\"] = data[\"Name\"].str.extract(\"([A-Za-z]+)\\.\", expand=True)\n",
    "\n",
    "# Replacing rare titles with more common ones\n",
    "title_mapping = {\n",
    "    \"Mlle\": \"Miss\",\n",
    "    \"Major\": \"Mr\",\n",
    "    \"Col\": \"Mr\",\n",
    "    \"Sir\": \"Mr\",\n",
    "    \"Don\": \"Mr\",\n",
    "    \"Mme\": \"Miss\",\n",
    "    \"Jonkheer\": \"Mr\",\n",
    "    \"Lady\": \"Mrs\",\n",
    "    \"Capt\": \"Mr\",\n",
    "    \"Countess\": \"Mrs\",\n",
    "    \"Ms\": \"Miss\",\n",
    "    \"Dona\": \"Mrs\",\n",
    "}\n",
    "data.replace({\"Title\": title_mapping}, inplace=True)\n",
    "\n",
    "titles = [\"Dr\", \"Master\", \"Miss\", \"Mr\", \"Mrs\", \"Rev\"]\n",
    "for title in titles:\n",
    "    group_median_age = data.groupby(\"Title\")[\"Age\"].median()[titles.index(title)]\n",
    "    data.loc[(data[\"Age\"].isnull()) & (data[\"Title\"] == title), \"Age\"] = group_median_age\n",
    "\n",
    "data.drop(\"Title\", axis=1, inplace=True)"
   ]
  },
  {
   "attachments": {},
   "cell_type": "markdown",
   "id": "575838f9",
   "metadata": {
    "papermill": {
     "duration": 0.009726,
     "end_time": "2023-06-01T23:17:34.325573",
     "exception": false,
     "start_time": "2023-06-01T23:17:34.315847",
     "status": "completed"
    },
    "tags": []
   },
   "source": [
    "Group into deck groups based on cabin survival rate"
   ]
  },
  {
   "cell_type": "code",
   "execution_count": 7,
   "id": "375e2b19",
   "metadata": {
    "execution": {
     "iopub.execute_input": "2023-06-01T23:17:34.346804Z",
     "iopub.status.busy": "2023-06-01T23:17:34.346365Z",
     "iopub.status.idle": "2023-06-01T23:17:34.358337Z",
     "shell.execute_reply": "2023-06-01T23:17:34.357446Z"
    },
    "papermill": {
     "duration": 0.025045,
     "end_time": "2023-06-01T23:17:34.360428",
     "exception": false,
     "start_time": "2023-06-01T23:17:34.335383",
     "status": "completed"
    },
    "tags": []
   },
   "outputs": [],
   "source": [
    "data[\"Deck\"] = data[\"Cabin\"].apply(lambda s: s[0] if pd.notnull(s) else \"M\")\n",
    "\n",
    "data[\"Deck\"].replace(\"T\", \"M\", inplace=True)\n",
    "data[\"Deck\"].replace([\"B\", \"D\", \"E\"], \"BDE\", inplace=True)\n",
    "data[\"Deck\"].replace([\"C\", \"F\"], \"CF\", inplace=True)\n",
    "data[\"Deck\"].replace([\"A\", \"G\"], \"AG\", inplace=True)"
   ]
  },
  {
   "attachments": {},
   "cell_type": "markdown",
   "id": "659957f2",
   "metadata": {
    "papermill": {
     "duration": 0.009653,
     "end_time": "2023-06-01T23:17:34.380178",
     "exception": false,
     "start_time": "2023-06-01T23:17:34.370525",
     "status": "completed"
    },
    "tags": []
   },
   "source": [
    "# Create woman-child groups model"
   ]
  },
  {
   "attachments": {},
   "cell_type": "markdown",
   "id": "02142ceb",
   "metadata": {
    "papermill": {
     "duration": 0.009662,
     "end_time": "2023-06-01T23:17:34.399883",
     "exception": false,
     "start_time": "2023-06-01T23:17:34.390221",
     "status": "completed"
    },
    "tags": []
   },
   "source": [
    "Extract surnames"
   ]
  },
  {
   "cell_type": "code",
   "execution_count": 8,
   "id": "4bc7f025",
   "metadata": {
    "execution": {
     "iopub.execute_input": "2023-06-01T23:17:34.421375Z",
     "iopub.status.busy": "2023-06-01T23:17:34.420995Z",
     "iopub.status.idle": "2023-06-01T23:17:34.428467Z",
     "shell.execute_reply": "2023-06-01T23:17:34.427208Z"
    },
    "papermill": {
     "duration": 0.021103,
     "end_time": "2023-06-01T23:17:34.430916",
     "exception": false,
     "start_time": "2023-06-01T23:17:34.409813",
     "status": "completed"
    },
    "tags": []
   },
   "outputs": [],
   "source": [
    "data[\"Surname\"] = data[\"Name\"].apply(lambda x: x.split(\",\")[0])"
   ]
  },
  {
   "attachments": {},
   "cell_type": "markdown",
   "id": "e00435c0",
   "metadata": {
    "papermill": {
     "duration": 0.009822,
     "end_time": "2023-06-01T23:17:34.451013",
     "exception": false,
     "start_time": "2023-06-01T23:17:34.441191",
     "status": "completed"
    },
    "tags": []
   },
   "source": [
    "Create ticket ID"
   ]
  },
  {
   "cell_type": "code",
   "execution_count": 9,
   "id": "ec062c14",
   "metadata": {
    "execution": {
     "iopub.execute_input": "2023-06-01T23:17:34.472843Z",
     "iopub.status.busy": "2023-06-01T23:17:34.472314Z",
     "iopub.status.idle": "2023-06-01T23:17:35.396044Z",
     "shell.execute_reply": "2023-06-01T23:17:35.394924Z"
    },
    "papermill": {
     "duration": 0.937588,
     "end_time": "2023-06-01T23:17:35.398679",
     "exception": false,
     "start_time": "2023-06-01T23:17:34.461091",
     "status": "completed"
    },
    "tags": []
   },
   "outputs": [],
   "source": [
    "def transform_to_ticket_ID(row):\n",
    "    row[\"Ticket_ID\"] = f\"{row.Pclass}-{row.Ticket[:-1]}-{row.Fare}-{row.Embarked}\"\n",
    "    return row\n",
    "\n",
    "\n",
    "data = data.apply(transform_to_ticket_ID, axis=\"columns\")"
   ]
  },
  {
   "attachments": {},
   "cell_type": "markdown",
   "id": "58e09e00",
   "metadata": {
    "papermill": {
     "duration": 0.009601,
     "end_time": "2023-06-01T23:17:35.418387",
     "exception": false,
     "start_time": "2023-06-01T23:17:35.408786",
     "status": "completed"
    },
    "tags": []
   },
   "source": [
    "Create group id"
   ]
  },
  {
   "cell_type": "code",
   "execution_count": 10,
   "id": "c909bd79",
   "metadata": {
    "execution": {
     "iopub.execute_input": "2023-06-01T23:17:35.439807Z",
     "iopub.status.busy": "2023-06-01T23:17:35.439409Z",
     "iopub.status.idle": "2023-06-01T23:17:36.435565Z",
     "shell.execute_reply": "2023-06-01T23:17:36.434212Z"
    },
    "papermill": {
     "duration": 1.00996,
     "end_time": "2023-06-01T23:17:36.438174",
     "exception": false,
     "start_time": "2023-06-01T23:17:35.428214",
     "status": "completed"
    },
    "tags": []
   },
   "outputs": [],
   "source": [
    "def transform_to_group_ID(row):\n",
    "    row[\"Group_ID\"] = f\"{row.Surname}-{row.Ticket_ID}\"\n",
    "    return row\n",
    "\n",
    "\n",
    "data = data.apply(transform_to_group_ID, axis=\"columns\")"
   ]
  },
  {
   "attachments": {},
   "cell_type": "markdown",
   "id": "c2e2a43c",
   "metadata": {
    "papermill": {
     "duration": 0.009776,
     "end_time": "2023-06-01T23:17:36.458845",
     "exception": false,
     "start_time": "2023-06-01T23:17:36.449069",
     "status": "completed"
    },
    "tags": []
   },
   "source": [
    "Create woman, man, boy groups"
   ]
  },
  {
   "cell_type": "code",
   "execution_count": 11,
   "id": "7b0f0dd0",
   "metadata": {
    "execution": {
     "iopub.execute_input": "2023-06-01T23:17:36.480413Z",
     "iopub.status.busy": "2023-06-01T23:17:36.480015Z",
     "iopub.status.idle": "2023-06-01T23:17:36.488192Z",
     "shell.execute_reply": "2023-06-01T23:17:36.487365Z"
    },
    "papermill": {
     "duration": 0.021634,
     "end_time": "2023-06-01T23:17:36.490424",
     "exception": false,
     "start_time": "2023-06-01T23:17:36.468790",
     "status": "completed"
    },
    "tags": []
   },
   "outputs": [],
   "source": [
    "data[\"Title\"] = \"man\"\n",
    "data.loc[data.Sex == \"female\", \"Title\"] = \"woman\"\n",
    "data.loc[data[\"Name\"].str.contains(\"Master\"), \"Title\"] = \"boy\""
   ]
  },
  {
   "attachments": {},
   "cell_type": "markdown",
   "id": "8454a860",
   "metadata": {
    "papermill": {
     "duration": 0.00961,
     "end_time": "2023-06-01T23:17:36.510002",
     "exception": false,
     "start_time": "2023-06-01T23:17:36.500392",
     "status": "completed"
    },
    "tags": []
   },
   "source": [
    "Assign noGroup to the rest of passengers"
   ]
  },
  {
   "cell_type": "code",
   "execution_count": 12,
   "id": "a6c39be5",
   "metadata": {
    "execution": {
     "iopub.execute_input": "2023-06-01T23:17:36.531994Z",
     "iopub.status.busy": "2023-06-01T23:17:36.531301Z",
     "iopub.status.idle": "2023-06-01T23:17:36.541641Z",
     "shell.execute_reply": "2023-06-01T23:17:36.540848Z"
    },
    "papermill": {
     "duration": 0.023902,
     "end_time": "2023-06-01T23:17:36.543745",
     "exception": false,
     "start_time": "2023-06-01T23:17:36.519843",
     "status": "completed"
    },
    "tags": []
   },
   "outputs": [],
   "source": [
    "data.loc[data.Title == \"man\", \"Group_ID\"] = \"no_group\"\n",
    "\n",
    "data[\"Group_Count\"] = data.loc[data.Title != \"man\"].groupby(\"Group_ID\")[\"Group_ID\"].transform(\"count\")\n",
    "\n",
    "data.loc[data.Group_Count <= 1, \"Group_ID\"] = \"no_group\""
   ]
  },
  {
   "attachments": {},
   "cell_type": "markdown",
   "id": "bc2990dc",
   "metadata": {
    "papermill": {
     "duration": 0.00986,
     "end_time": "2023-06-01T23:17:36.563867",
     "exception": false,
     "start_time": "2023-06-01T23:17:36.554007",
     "status": "completed"
    },
    "tags": []
   },
   "source": [
    "Assign women to group based on ticket if there is one"
   ]
  },
  {
   "cell_type": "code",
   "execution_count": 13,
   "id": "1466793f",
   "metadata": {
    "execution": {
     "iopub.execute_input": "2023-06-01T23:17:36.586290Z",
     "iopub.status.busy": "2023-06-01T23:17:36.585607Z",
     "iopub.status.idle": "2023-06-01T23:17:36.925708Z",
     "shell.execute_reply": "2023-06-01T23:17:36.924626Z"
    },
    "papermill": {
     "duration": 0.354248,
     "end_time": "2023-06-01T23:17:36.928287",
     "exception": false,
     "start_time": "2023-06-01T23:17:36.574039",
     "status": "completed"
    },
    "tags": []
   },
   "outputs": [],
   "source": [
    "for i in range(0, 1309):\n",
    "    if (data.loc[i, \"Title\"] != \"man\") & (data.loc[i, \"Group_ID\"] == \"no_group\"):\n",
    "        data.loc[i, \"Group_ID\"] = data.loc[\n",
    "            (data[\"Ticket_ID\"] == data.loc[i, \"Ticket_ID\"]) & (data.Title != \"man\"), \"Group_ID\"\n",
    "        ].iloc[0]"
   ]
  },
  {
   "attachments": {},
   "cell_type": "markdown",
   "id": "ce15c60a",
   "metadata": {
    "papermill": {
     "duration": 0.010103,
     "end_time": "2023-06-01T23:17:36.948814",
     "exception": false,
     "start_time": "2023-06-01T23:17:36.938711",
     "status": "completed"
    },
    "tags": []
   },
   "source": [
    "Calculate survival for groups"
   ]
  },
  {
   "cell_type": "code",
   "execution_count": 14,
   "id": "08dd4d10",
   "metadata": {
    "execution": {
     "iopub.execute_input": "2023-06-01T23:17:36.971149Z",
     "iopub.status.busy": "2023-06-01T23:17:36.970755Z",
     "iopub.status.idle": "2023-06-01T23:17:36.983519Z",
     "shell.execute_reply": "2023-06-01T23:17:36.982731Z"
    },
    "papermill": {
     "duration": 0.026696,
     "end_time": "2023-06-01T23:17:36.985829",
     "exception": false,
     "start_time": "2023-06-01T23:17:36.959133",
     "status": "completed"
    },
    "tags": []
   },
   "outputs": [],
   "source": [
    "data[\"Group_Survival\"] = (\n",
    "    data.loc[(data.Title != \"man\") & (data.Group_ID != \"no_group\")]\n",
    "    .groupby(\"Group_ID\")\n",
    "    .Survived.transform(\"mean\")\n",
    ")"
   ]
  },
  {
   "attachments": {},
   "cell_type": "markdown",
   "id": "ca61ba97",
   "metadata": {
    "papermill": {
     "duration": 0.010157,
     "end_time": "2023-06-01T23:17:37.006666",
     "exception": false,
     "start_time": "2023-06-01T23:17:36.996509",
     "status": "completed"
    },
    "tags": []
   },
   "source": [
    "Assign 0 to 3rd class groups"
   ]
  },
  {
   "cell_type": "code",
   "execution_count": 15,
   "id": "09896916",
   "metadata": {
    "execution": {
     "iopub.execute_input": "2023-06-01T23:17:37.029541Z",
     "iopub.status.busy": "2023-06-01T23:17:37.028852Z",
     "iopub.status.idle": "2023-06-01T23:17:37.042230Z",
     "shell.execute_reply": "2023-06-01T23:17:37.041400Z"
    },
    "papermill": {
     "duration": 0.027402,
     "end_time": "2023-06-01T23:17:37.044402",
     "exception": false,
     "start_time": "2023-06-01T23:17:37.017000",
     "status": "completed"
    },
    "tags": []
   },
   "outputs": [],
   "source": [
    "group_columns = [\"PassengerId\", \"Survived\", \"Group_Survival\", \"Name\", \"Title\", \"Group_ID\"]\n",
    "\n",
    "# get the groups based on the surname\n",
    "test_groups = set(data[891:1309].Group_ID.unique()) - set(data[0:891].Group_ID.unique())\n",
    "data.loc[data.Group_ID.isin(test_groups), group_columns].sort_values(by=\"Group_ID\")\n",
    "\n",
    "data.loc[data.Group_ID.isin(test_groups), \"Group_Survival\"] = 0\n",
    "data.loc[(data.Group_ID.isin(test_groups)) & (data.Pclass != 3), \"Group_Survival\"] = 1"
   ]
  },
  {
   "attachments": {},
   "cell_type": "markdown",
   "id": "48111383",
   "metadata": {
    "papermill": {
     "duration": 0.010144,
     "end_time": "2023-06-01T23:17:37.065888",
     "exception": false,
     "start_time": "2023-06-01T23:17:37.055744",
     "status": "completed"
    },
    "tags": []
   },
   "source": [
    "Families prediction\n",
    "set women and boy prediction to 1 unless they group survival is set to 0"
   ]
  },
  {
   "cell_type": "code",
   "execution_count": 16,
   "id": "b94cf0a8",
   "metadata": {
    "execution": {
     "iopub.execute_input": "2023-06-01T23:17:37.088983Z",
     "iopub.status.busy": "2023-06-01T23:17:37.088584Z",
     "iopub.status.idle": "2023-06-01T23:17:37.102054Z",
     "shell.execute_reply": "2023-06-01T23:17:37.100949Z"
    },
    "papermill": {
     "duration": 0.027709,
     "end_time": "2023-06-01T23:17:37.104496",
     "exception": false,
     "start_time": "2023-06-01T23:17:37.076787",
     "status": "completed"
    },
    "tags": []
   },
   "outputs": [],
   "source": [
    "data.loc[891:1308, \"Survival_Prediction\"] = 0\n",
    "data.loc[891:1308, \"Survival_Prediction\"][(data.Sex == \"female\")] = 1\n",
    "data.loc[891:1308, \"Survival_Prediction\"][\n",
    "    (data.Sex == \"female\") & (data[\"Group_Survival\"] == 0)\n",
    "] = 0\n",
    "data.loc[891:1308, \"Survival_Prediction\"][\n",
    "    (data.Title == \"boy\") & (data[\"Group_Survival\"] == 1)\n",
    "] = 1"
   ]
  },
  {
   "attachments": {},
   "cell_type": "markdown",
   "id": "79ecea21",
   "metadata": {
    "papermill": {
     "duration": 0.011145,
     "end_time": "2023-06-01T23:17:37.127045",
     "exception": false,
     "start_time": "2023-06-01T23:17:37.115900",
     "status": "completed"
    },
    "tags": []
   },
   "source": [
    "Adjust fare by count of given ticket"
   ]
  },
  {
   "cell_type": "code",
   "execution_count": 17,
   "id": "4ca0f129",
   "metadata": {
    "execution": {
     "iopub.execute_input": "2023-06-01T23:17:37.149800Z",
     "iopub.status.busy": "2023-06-01T23:17:37.149363Z",
     "iopub.status.idle": "2023-06-01T23:17:37.157049Z",
     "shell.execute_reply": "2023-06-01T23:17:37.156195Z"
    },
    "papermill": {
     "duration": 0.021738,
     "end_time": "2023-06-01T23:17:37.159403",
     "exception": false,
     "start_time": "2023-06-01T23:17:37.137665",
     "status": "completed"
    },
    "tags": []
   },
   "outputs": [],
   "source": [
    "data[\"Adjusted_Fare\"] = data[\"Fare\"] / data.groupby(\"Ticket\")[\"Ticket\"].transform(\"count\")"
   ]
  },
  {
   "attachments": {},
   "cell_type": "markdown",
   "id": "6d568e9d",
   "metadata": {
    "papermill": {
     "duration": 0.010177,
     "end_time": "2023-06-01T23:17:37.180164",
     "exception": false,
     "start_time": "2023-06-01T23:17:37.169987",
     "status": "completed"
    },
    "tags": []
   },
   "source": [
    "# Create Gender Based Survival Models"
   ]
  },
  {
   "cell_type": "code",
   "execution_count": 18,
   "id": "cdd47baa",
   "metadata": {
    "execution": {
     "iopub.execute_input": "2023-06-01T23:17:37.203316Z",
     "iopub.status.busy": "2023-06-01T23:17:37.202942Z",
     "iopub.status.idle": "2023-06-01T23:17:37.208794Z",
     "shell.execute_reply": "2023-06-01T23:17:37.207573Z"
    },
    "papermill": {
     "duration": 0.020056,
     "end_time": "2023-06-01T23:17:37.210970",
     "exception": false,
     "start_time": "2023-06-01T23:17:37.190914",
     "status": "completed"
    },
    "tags": []
   },
   "outputs": [],
   "source": [
    "def get_gender_based_data(sex: str):\n",
    "    return (\n",
    "        data[0:891].loc[(data.Sex == sex) & (data.Group_Survival.isnull())],\n",
    "        data[891:1309].loc[(data.Sex == sex) & (data.Group_Survival.isnull())],\n",
    "    )"
   ]
  },
  {
   "cell_type": "code",
   "execution_count": 19,
   "id": "1ded8402",
   "metadata": {
    "execution": {
     "iopub.execute_input": "2023-06-01T23:17:37.234953Z",
     "iopub.status.busy": "2023-06-01T23:17:37.234569Z",
     "iopub.status.idle": "2023-06-01T23:17:37.242365Z",
     "shell.execute_reply": "2023-06-01T23:17:37.241551Z"
    },
    "papermill": {
     "duration": 0.022605,
     "end_time": "2023-06-01T23:17:37.244639",
     "exception": false,
     "start_time": "2023-06-01T23:17:37.222034",
     "status": "completed"
    },
    "tags": []
   },
   "outputs": [],
   "source": [
    "from typing import List\n",
    "\n",
    "\n",
    "def create_preprocessor(numerical_columns: List[str], categorical_columns: List[str]):\n",
    "    numerical_transformer = Pipeline(\n",
    "        steps=[(\"imputer\", SimpleImputer()), (\"scaler\", StandardScaler())]\n",
    "    )\n",
    "\n",
    "    categorical_transformer = Pipeline(\n",
    "        steps=[\n",
    "            (\"imputer\", SimpleImputer(strategy=\"most_frequent\")),\n",
    "            (\"onehot\", OneHotEncoder(handle_unknown=\"ignore\")),\n",
    "        ]\n",
    "    )\n",
    "\n",
    "    preprocessor = ColumnTransformer(\n",
    "        transformers=[\n",
    "            (\"num\", numerical_transformer, numerical_columns),\n",
    "            (\"cat\", categorical_transformer, categorical_columns),\n",
    "        ]\n",
    "    )\n",
    "\n",
    "    return preprocessor"
   ]
  },
  {
   "attachments": {},
   "cell_type": "markdown",
   "id": "53af7f0c",
   "metadata": {
    "papermill": {
     "duration": 0.0102,
     "end_time": "2023-06-01T23:17:37.265466",
     "exception": false,
     "start_time": "2023-06-01T23:17:37.255266",
     "status": "completed"
    },
    "tags": []
   },
   "source": [
    "## Male Survival Model"
   ]
  },
  {
   "attachments": {},
   "cell_type": "markdown",
   "id": "f08e3690",
   "metadata": {
    "papermill": {
     "duration": 0.010285,
     "end_time": "2023-06-01T23:17:37.286503",
     "exception": false,
     "start_time": "2023-06-01T23:17:37.276218",
     "status": "completed"
    },
    "tags": []
   },
   "source": [
    "Get isolated data"
   ]
  },
  {
   "cell_type": "code",
   "execution_count": 20,
   "id": "78aefb59",
   "metadata": {
    "execution": {
     "iopub.execute_input": "2023-06-01T23:17:37.310371Z",
     "iopub.status.busy": "2023-06-01T23:17:37.309114Z",
     "iopub.status.idle": "2023-06-01T23:17:37.317516Z",
     "shell.execute_reply": "2023-06-01T23:17:37.316689Z"
    },
    "papermill": {
     "duration": 0.02244,
     "end_time": "2023-06-01T23:17:37.319648",
     "exception": false,
     "start_time": "2023-06-01T23:17:37.297208",
     "status": "completed"
    },
    "tags": []
   },
   "outputs": [],
   "source": [
    "train_male, test_male = get_gender_based_data(\"male\")"
   ]
  },
  {
   "attachments": {},
   "cell_type": "markdown",
   "id": "29bca6d3",
   "metadata": {
    "papermill": {
     "duration": 0.010263,
     "end_time": "2023-06-01T23:17:37.340653",
     "exception": false,
     "start_time": "2023-06-01T23:17:37.330390",
     "status": "completed"
    },
    "tags": []
   },
   "source": [
    "Create preprocessor with given numerical and categorical columns"
   ]
  },
  {
   "cell_type": "code",
   "execution_count": 21,
   "id": "f7eef76d",
   "metadata": {
    "execution": {
     "iopub.execute_input": "2023-06-01T23:17:37.363750Z",
     "iopub.status.busy": "2023-06-01T23:17:37.363355Z",
     "iopub.status.idle": "2023-06-01T23:17:37.367609Z",
     "shell.execute_reply": "2023-06-01T23:17:37.366807Z"
    },
    "papermill": {
     "duration": 0.018484,
     "end_time": "2023-06-01T23:17:37.369683",
     "exception": false,
     "start_time": "2023-06-01T23:17:37.351199",
     "status": "completed"
    },
    "tags": []
   },
   "outputs": [],
   "source": [
    "numerical_cols_m = [\"Adjusted_Fare\"]\n",
    "categorical_cols_m = [\"Pclass\", \"Embarked\", \"Married_Status\"]\n",
    "preprocessor_m = create_preprocessor(numerical_cols_m, categorical_cols_m)"
   ]
  },
  {
   "attachments": {},
   "cell_type": "markdown",
   "id": "107ccf6b",
   "metadata": {
    "papermill": {
     "duration": 0.010316,
     "end_time": "2023-06-01T23:17:37.390591",
     "exception": false,
     "start_time": "2023-06-01T23:17:37.380275",
     "status": "completed"
    },
    "tags": []
   },
   "source": [
    "Create ensemble of KNN's"
   ]
  },
  {
   "cell_type": "code",
   "execution_count": 22,
   "id": "978a77ba",
   "metadata": {
    "execution": {
     "iopub.execute_input": "2023-06-01T23:17:37.413953Z",
     "iopub.status.busy": "2023-06-01T23:17:37.413227Z",
     "iopub.status.idle": "2023-06-01T23:17:37.419074Z",
     "shell.execute_reply": "2023-06-01T23:17:37.418204Z"
    },
    "papermill": {
     "duration": 0.019951,
     "end_time": "2023-06-01T23:17:37.421116",
     "exception": false,
     "start_time": "2023-06-01T23:17:37.401165",
     "status": "completed"
    },
    "tags": []
   },
   "outputs": [],
   "source": [
    "m1 = KNeighborsClassifier(n_neighbors=1)\n",
    "m2 = KNeighborsClassifier(n_neighbors=3)\n",
    "m3 = KNeighborsClassifier(n_neighbors=5)\n",
    "m4 = KNeighborsClassifier(n_neighbors=7)\n",
    "m5 = KNeighborsClassifier(n_neighbors=16)\n",
    "\n",
    "male_pipeline = Pipeline(\n",
    "    steps=[\n",
    "        (\"preprocessor\", preprocessor_m),\n",
    "        (\"voting\", VotingClassifier([(\"m1\", m1), (\"m2\", m2), (\"m3\", m3), (\"m4\", m4), (\"m5\", m5)], voting=\"soft\")),\n",
    "    ]\n",
    ")"
   ]
  },
  {
   "cell_type": "code",
   "execution_count": 23,
   "id": "50774203",
   "metadata": {
    "execution": {
     "iopub.execute_input": "2023-06-01T23:17:37.444569Z",
     "iopub.status.busy": "2023-06-01T23:17:37.444145Z",
     "iopub.status.idle": "2023-06-01T23:17:37.449949Z",
     "shell.execute_reply": "2023-06-01T23:17:37.448976Z"
    },
    "papermill": {
     "duration": 0.020381,
     "end_time": "2023-06-01T23:17:37.452257",
     "exception": false,
     "start_time": "2023-06-01T23:17:37.431876",
     "status": "completed"
    },
    "tags": []
   },
   "outputs": [],
   "source": [
    "features_m = [\"Adjusted_Fare\", \"Pclass\", \"Embarked\", \"Married_Status\"]\n",
    "y_m = train_male[\"Survived\"]\n",
    "X_m = train_male[features_m]"
   ]
  },
  {
   "cell_type": "code",
   "execution_count": 24,
   "id": "62cc33e9",
   "metadata": {
    "execution": {
     "iopub.execute_input": "2023-06-01T23:17:37.475820Z",
     "iopub.status.busy": "2023-06-01T23:17:37.475116Z",
     "iopub.status.idle": "2023-06-01T23:17:37.528993Z",
     "shell.execute_reply": "2023-06-01T23:17:37.527905Z"
    },
    "papermill": {
     "duration": 0.068477,
     "end_time": "2023-06-01T23:17:37.531574",
     "exception": false,
     "start_time": "2023-06-01T23:17:37.463097",
     "status": "completed"
    },
    "tags": []
   },
   "outputs": [],
   "source": [
    "male_pipeline.fit(X_m, y_m)\n",
    "learn_train_m = male_pipeline.predict(X_m)"
   ]
  },
  {
   "cell_type": "code",
   "execution_count": 25,
   "id": "a0117937",
   "metadata": {
    "execution": {
     "iopub.execute_input": "2023-06-01T23:17:37.555105Z",
     "iopub.status.busy": "2023-06-01T23:17:37.554705Z",
     "iopub.status.idle": "2023-06-01T23:17:37.579012Z",
     "shell.execute_reply": "2023-06-01T23:17:37.577844Z"
    },
    "papermill": {
     "duration": 0.039012,
     "end_time": "2023-06-01T23:17:37.581537",
     "exception": false,
     "start_time": "2023-06-01T23:17:37.542525",
     "status": "completed"
    },
    "tags": []
   },
   "outputs": [],
   "source": [
    "X_test_m = test_male[features_m]\n",
    "proba_m = male_pipeline.predict_proba(X_test_m)[:, 1]\n",
    "predictions_m = np.where(proba_m > 0.5, 1, 0)"
   ]
  },
  {
   "cell_type": "code",
   "execution_count": 26,
   "id": "e69c8554",
   "metadata": {
    "execution": {
     "iopub.execute_input": "2023-06-01T23:17:37.604933Z",
     "iopub.status.busy": "2023-06-01T23:17:37.604523Z",
     "iopub.status.idle": "2023-06-01T23:17:37.617976Z",
     "shell.execute_reply": "2023-06-01T23:17:37.616789Z"
    },
    "papermill": {
     "duration": 0.028272,
     "end_time": "2023-06-01T23:17:37.620867",
     "exception": false,
     "start_time": "2023-06-01T23:17:37.592595",
     "status": "completed"
    },
    "tags": []
   },
   "outputs": [
    {
     "name": "stdout",
     "output_type": "stream",
     "text": [
      "Predicted that 42 men will survive:\n",
      "                                    Name\n",
      "904                 Howard, Mr. Benjamin\n",
      "911               Rothschild, Mr. Martin\n",
      "919              Brady, Mr. John Bertram\n",
      "921         Louch, Mr. Charles Alexander\n",
      "925             Mock, Mr. Philipp Edmund\n",
      "930                        Hee, Mr. Ling\n",
      "937             Chevre, Mr. Paul Romaine\n",
      "941             Smith, Mr. Lucien Philip\n",
      "959      Tucker, Mr. Gilbert Milligan Jr\n",
      "969       Aldworth, Mr. Charles Augustus\n",
      "985                  Birnbaum, Mr. Jakob\n",
      "986           Tenglin, Mr. Gunnar Isidor\n",
      "992                   Weisz, Mr. Leopold\n",
      "1000                   Swane, Mr. George\n",
      "1017            Brobeck, Mr. Karl Rudolf\n",
      "1019                Bowenur, Mr. Solomon\n",
      "1022           Gracie, Col. Archibald IV\n",
      "1028                 Schmidt, Mr. August\n",
      "1034          Beauchamp, Mr. Henry James\n",
      "1040              Lahtinen, Rev. William\n",
      "1055       Peruschitz, Rev. Joseph Maria\n",
      "1068     Stengel, Mr. Charles Emil Henry\n",
      "1071           McCrie, Mr. James Matthew\n",
      "1080                     Veal, Mr. James\n",
      "1081                Angle, Mr. William A\n",
      "1096           Omont, Mr. Alfred Fernand\n",
      "1114       Karlsson, Mr. Einar Gervasius\n",
      "1117          Asplund, Mr. Johan Charles\n",
      "1120  Hocking, Mr. Samuel James Metcalfe\n",
      "1121         Sweet, Mr. George Frederick\n",
      "1133        Spedden, Mr. Frederic Oakley\n",
      "1168               Faunthorpe, Mr. Harry\n",
      "1213                  Nesson, Mr. Israel\n",
      "1219       Clarke, Mr. Charles Valentine\n",
      "1220                 Enander, Mr. Ingvar\n",
      "1222        Dulles, Mr. William Crothers\n",
      "1227          de Brito, Mr. Jose Joaquim\n",
      "1237          Botsford, Mr. William Hull\n",
      "1244                  Herman, Mr. Samuel\n",
      "1264              Harbeck, Mr. William H\n",
      "1275      Wheeler, Mr. Edwin Frederick\"\"\n",
      "1278                     Ashby, Mr. John\n"
     ]
    }
   ],
   "source": [
    "survived_m = test_male.loc[(predictions_m==1), [\"Name\"]]\n",
    "print(f\"Predicted that {len(survived_m)} men will survive:\", survived_m, sep=\"\\n\")"
   ]
  },
  {
   "attachments": {},
   "cell_type": "markdown",
   "id": "d7c34555",
   "metadata": {
    "papermill": {
     "duration": 0.010641,
     "end_time": "2023-06-01T23:17:37.642715",
     "exception": false,
     "start_time": "2023-06-01T23:17:37.632074",
     "status": "completed"
    },
    "tags": []
   },
   "source": [
    "## Solo Female Survival Model"
   ]
  },
  {
   "attachments": {},
   "cell_type": "markdown",
   "id": "92109cdc",
   "metadata": {
    "papermill": {
     "duration": 0.010578,
     "end_time": "2023-06-01T23:17:37.664232",
     "exception": false,
     "start_time": "2023-06-01T23:17:37.653654",
     "status": "completed"
    },
    "tags": []
   },
   "source": [
    "Get isolated data"
   ]
  },
  {
   "cell_type": "code",
   "execution_count": 27,
   "id": "3a07469f",
   "metadata": {
    "execution": {
     "iopub.execute_input": "2023-06-01T23:17:37.688714Z",
     "iopub.status.busy": "2023-06-01T23:17:37.687506Z",
     "iopub.status.idle": "2023-06-01T23:17:37.696459Z",
     "shell.execute_reply": "2023-06-01T23:17:37.695408Z"
    },
    "papermill": {
     "duration": 0.023592,
     "end_time": "2023-06-01T23:17:37.698877",
     "exception": false,
     "start_time": "2023-06-01T23:17:37.675285",
     "status": "completed"
    },
    "tags": []
   },
   "outputs": [],
   "source": [
    "train_female, test_female = get_gender_based_data(\"female\")"
   ]
  },
  {
   "attachments": {},
   "cell_type": "markdown",
   "id": "867188cc",
   "metadata": {
    "papermill": {
     "duration": 0.010914,
     "end_time": "2023-06-01T23:17:37.721036",
     "exception": false,
     "start_time": "2023-06-01T23:17:37.710122",
     "status": "completed"
    },
    "tags": []
   },
   "source": [
    "Create preprocessor with given numerical and categorical columns"
   ]
  },
  {
   "cell_type": "code",
   "execution_count": 28,
   "id": "8891c7b3",
   "metadata": {
    "execution": {
     "iopub.execute_input": "2023-06-01T23:17:37.745476Z",
     "iopub.status.busy": "2023-06-01T23:17:37.745079Z",
     "iopub.status.idle": "2023-06-01T23:17:37.749809Z",
     "shell.execute_reply": "2023-06-01T23:17:37.748834Z"
    },
    "papermill": {
     "duration": 0.019369,
     "end_time": "2023-06-01T23:17:37.751895",
     "exception": false,
     "start_time": "2023-06-01T23:17:37.732526",
     "status": "completed"
    },
    "tags": []
   },
   "outputs": [],
   "source": [
    "numerical_cols_f = [\"Adjusted_Fare\", \"Age\"]\n",
    "categorical_cols_f = [\"Pclass\", \"Deck\", \"Married_Status\"]\n",
    "preprocessor_f = create_preprocessor(numerical_cols_f, categorical_cols_f)"
   ]
  },
  {
   "attachments": {},
   "cell_type": "markdown",
   "id": "57100a9b",
   "metadata": {
    "papermill": {
     "duration": 0.01097,
     "end_time": "2023-06-01T23:17:37.774672",
     "exception": false,
     "start_time": "2023-06-01T23:17:37.763702",
     "status": "completed"
    },
    "tags": []
   },
   "source": [
    "Create ensemble of KNN's"
   ]
  },
  {
   "cell_type": "code",
   "execution_count": 29,
   "id": "a5a1093e",
   "metadata": {
    "execution": {
     "iopub.execute_input": "2023-06-01T23:17:37.799417Z",
     "iopub.status.busy": "2023-06-01T23:17:37.799024Z",
     "iopub.status.idle": "2023-06-01T23:17:37.805501Z",
     "shell.execute_reply": "2023-06-01T23:17:37.804386Z"
    },
    "papermill": {
     "duration": 0.02177,
     "end_time": "2023-06-01T23:17:37.807689",
     "exception": false,
     "start_time": "2023-06-01T23:17:37.785919",
     "status": "completed"
    },
    "tags": []
   },
   "outputs": [],
   "source": [
    "f1 = KNeighborsClassifier(n_neighbors=2)\n",
    "f2 = KNeighborsClassifier(n_neighbors=5)\n",
    "f3 = KNeighborsClassifier(n_neighbors=9)\n",
    "f4 = KNeighborsClassifier(n_neighbors=10)\n",
    "f5 = KNeighborsClassifier(n_neighbors=16)\n",
    "\n",
    "female_pipeline = Pipeline(\n",
    "    steps=[\n",
    "        (\"preprocessor\", preprocessor_f),\n",
    "        (\"voting\", VotingClassifier([(\"f1\", f1), (\"f2\", f2), (\"f3\", f3), (\"f4\", f4), (\"f5\", f5)])),\n",
    "    ]\n",
    ")"
   ]
  },
  {
   "cell_type": "code",
   "execution_count": 30,
   "id": "dba1307f",
   "metadata": {
    "execution": {
     "iopub.execute_input": "2023-06-01T23:17:37.831967Z",
     "iopub.status.busy": "2023-06-01T23:17:37.831562Z",
     "iopub.status.idle": "2023-06-01T23:17:37.838033Z",
     "shell.execute_reply": "2023-06-01T23:17:37.837021Z"
    },
    "papermill": {
     "duration": 0.020972,
     "end_time": "2023-06-01T23:17:37.840142",
     "exception": false,
     "start_time": "2023-06-01T23:17:37.819170",
     "status": "completed"
    },
    "tags": []
   },
   "outputs": [],
   "source": [
    "features_f = [\"Adjusted_Fare\", \"Pclass\", \"Deck\", \"Age\", \"Married_Status\"]\n",
    "y_f = train_female[\"Survived\"]\n",
    "X_f = train_female[features_f]"
   ]
  },
  {
   "cell_type": "code",
   "execution_count": 31,
   "id": "75f70156",
   "metadata": {
    "execution": {
     "iopub.execute_input": "2023-06-01T23:17:37.865050Z",
     "iopub.status.busy": "2023-06-01T23:17:37.864630Z",
     "iopub.status.idle": "2023-06-01T23:17:37.929002Z",
     "shell.execute_reply": "2023-06-01T23:17:37.927891Z"
    },
    "papermill": {
     "duration": 0.079885,
     "end_time": "2023-06-01T23:17:37.931670",
     "exception": false,
     "start_time": "2023-06-01T23:17:37.851785",
     "status": "completed"
    },
    "tags": []
   },
   "outputs": [],
   "source": [
    "female_pipeline.fit(X_f, y_f)\n",
    "learn_train_f = female_pipeline.predict(X_f)"
   ]
  },
  {
   "cell_type": "code",
   "execution_count": 32,
   "id": "29b4f671",
   "metadata": {
    "execution": {
     "iopub.execute_input": "2023-06-01T23:17:37.956857Z",
     "iopub.status.busy": "2023-06-01T23:17:37.956425Z",
     "iopub.status.idle": "2023-06-01T23:17:37.989750Z",
     "shell.execute_reply": "2023-06-01T23:17:37.988697Z"
    },
    "papermill": {
     "duration": 0.049035,
     "end_time": "2023-06-01T23:17:37.992269",
     "exception": false,
     "start_time": "2023-06-01T23:17:37.943234",
     "status": "completed"
    },
    "tags": []
   },
   "outputs": [],
   "source": [
    "X_test_f = test_female[features_f]\n",
    "predictions_f = female_pipeline.predict(X_test_f)"
   ]
  },
  {
   "cell_type": "code",
   "execution_count": 33,
   "id": "4f72319e",
   "metadata": {
    "execution": {
     "iopub.execute_input": "2023-06-01T23:17:38.017093Z",
     "iopub.status.busy": "2023-06-01T23:17:38.016717Z",
     "iopub.status.idle": "2023-06-01T23:17:38.024998Z",
     "shell.execute_reply": "2023-06-01T23:17:38.023947Z"
    },
    "papermill": {
     "duration": 0.023813,
     "end_time": "2023-06-01T23:17:38.027658",
     "exception": false,
     "start_time": "2023-06-01T23:17:38.003845",
     "status": "completed"
    },
    "tags": []
   },
   "outputs": [
    {
     "name": "stdout",
     "output_type": "stream",
     "text": [
      "Predicted that 8 non-group women will not survive:\n",
      "                                        Name\n",
      "897                     Connolly, Miss. Kate\n",
      "963           Nieminen, Miss. Manta Josefina\n",
      "977                       Barry, Miss. Julia\n",
      "1097                McGowan, Miss. Katherine\n",
      "1105  Andersson, Miss. Ida Augusta Margareta\n",
      "1182  Daly, Miss. Margaret Marcella Maggie\"\"\n",
      "1204                     Carr, Miss. Jeannie\n",
      "1303          Henriksson, Miss. Jenny Lovisa\n"
     ]
    }
   ],
   "source": [
    "died_f = test_female.loc[(predictions_f==0), [\"Name\"]]\n",
    "print(f\"Predicted that {len(died_f)} non-group women will not survive:\", died_f, sep=\"\\n\")"
   ]
  },
  {
   "attachments": {},
   "cell_type": "markdown",
   "id": "faab5d7e",
   "metadata": {
    "papermill": {
     "duration": 0.011199,
     "end_time": "2023-06-01T23:17:38.050861",
     "exception": false,
     "start_time": "2023-06-01T23:17:38.039662",
     "status": "completed"
    },
    "tags": []
   },
   "source": [
    "# Save the output"
   ]
  },
  {
   "attachments": {},
   "cell_type": "markdown",
   "id": "1c02f75c",
   "metadata": {
    "papermill": {
     "duration": 0.011042,
     "end_time": "2023-06-01T23:17:38.074027",
     "exception": false,
     "start_time": "2023-06-01T23:17:38.062985",
     "status": "completed"
    },
    "tags": []
   },
   "source": [
    "Change the data according to the predicitons made by models"
   ]
  },
  {
   "cell_type": "code",
   "execution_count": 34,
   "id": "53994395",
   "metadata": {
    "execution": {
     "iopub.execute_input": "2023-06-01T23:17:38.099049Z",
     "iopub.status.busy": "2023-06-01T23:17:38.098684Z",
     "iopub.status.idle": "2023-06-01T23:17:38.106756Z",
     "shell.execute_reply": "2023-06-01T23:17:38.105730Z"
    },
    "papermill": {
     "duration": 0.023149,
     "end_time": "2023-06-01T23:17:38.108953",
     "exception": false,
     "start_time": "2023-06-01T23:17:38.085804",
     "status": "completed"
    },
    "tags": []
   },
   "outputs": [],
   "source": [
    "data.loc[891:1308, \"Survival_Prediction\"][\n",
    "    (data.Sex == \"female\") & (data.Group_Survival.isnull())\n",
    "] = predictions_f\n",
    "data.loc[891:1308, \"Survival_Prediction\"][\n",
    "    (data.Sex == \"male\") & (data.Group_Survival.isnull())\n",
    "] = predictions_m"
   ]
  },
  {
   "attachments": {},
   "cell_type": "markdown",
   "id": "3b51d404",
   "metadata": {
    "papermill": {
     "duration": 0.011106,
     "end_time": "2023-06-01T23:17:38.131747",
     "exception": false,
     "start_time": "2023-06-01T23:17:38.120641",
     "status": "completed"
    },
    "tags": []
   },
   "source": [
    "Generate output file"
   ]
  },
  {
   "cell_type": "code",
   "execution_count": 36,
   "id": "6510e890",
   "metadata": {
    "execution": {
     "iopub.execute_input": "2023-06-01T23:17:38.157252Z",
     "iopub.status.busy": "2023-06-01T23:17:38.156889Z",
     "iopub.status.idle": "2023-06-01T23:17:38.168748Z",
     "shell.execute_reply": "2023-06-01T23:17:38.167865Z"
    },
    "papermill": {
     "duration": 0.027407,
     "end_time": "2023-06-01T23:17:38.171022",
     "exception": false,
     "start_time": "2023-06-01T23:17:38.143615",
     "status": "completed"
    },
    "tags": []
   },
   "outputs": [],
   "source": [
    "output = pd.DataFrame(\n",
    "    {\n",
    "        \"PassengerId\": data[891:1309].PassengerId,\n",
    "        \"Survived\": data[891:1309].Survival_Prediction.astype(\"int\"),\n",
    "    }\n",
    ")\n",
    "# output.to_csv(\"/kaggle/working/submission.csv\", index=False)"
   ]
  },
  {
   "cell_type": "code",
   "execution_count": 41,
   "id": "1751107e",
   "metadata": {},
   "outputs": [],
   "source": [
    "prediction = data[891:1309].Survival_Prediction.astype(\"int\")"
   ]
  },
  {
   "cell_type": "code",
   "execution_count": 38,
   "id": "57052078",
   "metadata": {},
   "outputs": [],
   "source": [
    "from sklearn.metrics import accuracy_score"
   ]
  },
  {
   "cell_type": "code",
   "execution_count": 39,
   "id": "cdbceb0e",
   "metadata": {},
   "outputs": [],
   "source": [
    "submission_a = pd.read_csv('../data/submission_a.csv')\n",
    "del submission_a['PassengerId']"
   ]
  },
  {
   "cell_type": "code",
   "execution_count": 42,
   "id": "e550b1dc",
   "metadata": {},
   "outputs": [
    {
     "data": {
      "text/plain": [
       "0.7822966507177034"
      ]
     },
     "execution_count": 42,
     "metadata": {},
     "output_type": "execute_result"
    }
   ],
   "source": [
    "accuracy = accuracy_score(prediction, submission_a)\n",
    "\n",
    "accuracy"
   ]
  }
 ],
 "metadata": {
  "kernelspec": {
   "display_name": "Python 3",
   "language": "python",
   "name": "python3"
  },
  "language_info": {
   "codemirror_mode": {
    "name": "ipython",
    "version": 3
   },
   "file_extension": ".py",
   "mimetype": "text/x-python",
   "name": "python",
   "nbconvert_exporter": "python",
   "pygments_lexer": "ipython3",
   "version": "3.10.11"
  },
  "papermill": {
   "default_parameters": {},
   "duration": 16.912931,
   "end_time": "2023-06-01T23:17:39.104026",
   "environment_variables": {},
   "exception": null,
   "input_path": "__notebook__.ipynb",
   "output_path": "__notebook__.ipynb",
   "parameters": {},
   "start_time": "2023-06-01T23:17:22.191095",
   "version": "2.4.0"
  }
 },
 "nbformat": 4,
 "nbformat_minor": 5
}
